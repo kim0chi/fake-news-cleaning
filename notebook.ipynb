{
 "cells": [
  {
   "cell_type": "markdown",
   "id": "7bb56bee",
   "metadata": {},
   "source": [
    "# <b>Fake & Real News Dataset</b>"
   ]
  },
  {
   "cell_type": "markdown",
   "id": "2ec59306",
   "metadata": {},
   "source": [
    "#### <strong>Purpose</strong>"
   ]
  },
  {
   "cell_type": "markdown",
   "id": "e5f10439",
   "metadata": {},
   "source": [
    "<strong>Fake News Detection</strong>\n",
    "<br>\n",
    "![Fake News GIF](gifs/Cnn%20News%20GIF.gif)\n",
    "\n",
    "    The dataset is meant to support fake news detection."
   ]
  },
  {
   "cell_type": "markdown",
   "id": "e37cc5d9",
   "metadata": {},
   "source": [
    "#### <strong>Objectives</strong>"
   ]
  },
  {
   "cell_type": "markdown",
   "id": "dc71f155",
   "metadata": {},
   "source": [
    "##### Build and Evaluate a Classifier\n",
    "\n",
    "![Predict GIF](gifs/Season%202%20Rolls%20Eyes%20GIF%20by%20BBC%20Three.gif)\n",
    "\n",
    "<ul>\n",
    "    <li>Use the title and/or text fields to train a supervised learning model that predicts the label (fake vs. real).</li>\n",
    "    <li>Benchmark different models (e.g., logistic regression, random forest, transformers) to see which performs best.</li>\n",
    "</ul>"
   ]
  },
  {
   "cell_type": "markdown",
   "id": "4b421630",
   "metadata": {},
   "source": [
    "##### Analyze Patterns of Fake vs. Real News\n",
    "\n",
    "![Analyze](gifs/Serious%20Episode%205%20GIF%20by%20One%20Chicago.gif)\n",
    "\n",
    "<ul>\n",
    "<li>Explore linguistic and metadata differences (e.g., vocabulary, sentiment, writing style, publishing source, frequency of certain words).</li>\n",
    "<li>Identify features that strongly correlate with fake news, which could also help in understanding misinformation strategies.</li>\n",
    "</ul>"
   ]
  },
  {
   "cell_type": "markdown",
   "id": "7772fe58",
   "metadata": {},
   "source": [
    "### <strong>Setup & Data Loading</strong>"
   ]
  },
  {
   "cell_type": "markdown",
   "id": "7f305e01",
   "metadata": {},
   "source": [
    "#### Import Libraries"
   ]
  },
  {
   "cell_type": "code",
   "execution_count": 58,
   "id": "c0e43ee2",
   "metadata": {},
   "outputs": [
    {
     "name": "stderr",
     "output_type": "stream",
     "text": [
      "[nltk_data] Downloading package stopwords to /home/kimo/nltk_data...\n",
      "[nltk_data]   Package stopwords is already up-to-date!\n",
      "[nltk_data] Downloading package wordnet to /home/kimo/nltk_data...\n",
      "[nltk_data]   Package wordnet is already up-to-date!\n",
      "[nltk_data] Downloading package punkt to /home/kimo/nltk_data...\n",
      "[nltk_data]   Package punkt is already up-to-date!\n",
      "[nltk_data] Downloading package punkt_tab to /home/kimo/nltk_data...\n",
      "[nltk_data]   Package punkt_tab is already up-to-date!\n"
     ]
    }
   ],
   "source": [
    "import pandas as pd\n",
    "import numpy as np\n",
    "\n",
    "# Preprocessing\n",
    "import re\n",
    "import string\n",
    "import nltk\n",
    "\n",
    "nltk.download(\"stopwords\")\n",
    "nltk.download(\"wordnet\")\n",
    "nltk.download(\"punkt\")\n",
    "nltk.download(\"punkt_tab\")\n",
    "\n",
    "from nltk.corpus import stopwords\n",
    "from nltk.stem import WordNetLemmatizer\n",
    "\n",
    "# Graphs/EDA\n",
    "import matplotlib.pyplot as plt\n",
    "import seaborn as sns"
   ]
  },
  {
   "cell_type": "markdown",
   "id": "75f629b3",
   "metadata": {},
   "source": [
    "#### Reading the File & Exploring the Data"
   ]
  },
  {
   "cell_type": "code",
   "execution_count": 59,
   "id": "39cf92d6",
   "metadata": {},
   "outputs": [
    {
     "name": "stdout",
     "output_type": "stream",
     "text": [
      "<class 'pandas.core.frame.DataFrame'>\n",
      "RangeIndex: 20000 entries, 0 to 19999\n",
      "Data columns (total 10 columns):\n",
      " #   Column      Non-Null Count  Dtype \n",
      "---  ------      --------------  ----- \n",
      " 0   article_id  200 non-null    object\n",
      " 1   title       20000 non-null  object\n",
      " 2   text        20000 non-null  object\n",
      " 3   date        20000 non-null  object\n",
      " 4   url         200 non-null    object\n",
      " 5   source      19000 non-null  object\n",
      " 6   author      19000 non-null  object\n",
      " 7   thumbnail   200 non-null    object\n",
      " 8   category    20000 non-null  object\n",
      " 9   label       20000 non-null  object\n",
      "dtypes: object(10)\n",
      "memory usage: 1.5+ MB\n"
     ]
    },
    {
     "data": {
      "text/html": [
       "<div>\n",
       "<style scoped>\n",
       "    .dataframe tbody tr th:only-of-type {\n",
       "        vertical-align: middle;\n",
       "    }\n",
       "\n",
       "    .dataframe tbody tr th {\n",
       "        vertical-align: top;\n",
       "    }\n",
       "\n",
       "    .dataframe thead th {\n",
       "        text-align: right;\n",
       "    }\n",
       "</style>\n",
       "<table border=\"1\" class=\"dataframe\">\n",
       "  <thead>\n",
       "    <tr style=\"text-align: right;\">\n",
       "      <th></th>\n",
       "      <th>article_id</th>\n",
       "      <th>title</th>\n",
       "      <th>text</th>\n",
       "      <th>date</th>\n",
       "      <th>url</th>\n",
       "      <th>source</th>\n",
       "      <th>author</th>\n",
       "      <th>thumbnail</th>\n",
       "      <th>category</th>\n",
       "      <th>label</th>\n",
       "    </tr>\n",
       "  </thead>\n",
       "  <tbody>\n",
       "    <tr>\n",
       "      <th>0</th>\n",
       "      <td>ART00001</td>\n",
       "      <td>Foreign Democrat final.</td>\n",
       "      <td>more tax development both store agreement lawy...</td>\n",
       "      <td>10/03/2023</td>\n",
       "      <td>https://newswebsite.com/article/1</td>\n",
       "      <td>NY Times</td>\n",
       "      <td>Paula George</td>\n",
       "      <td>https://images.newswebsite.com/thumb1.jpg</td>\n",
       "      <td>Politics</td>\n",
       "      <td>real</td>\n",
       "    </tr>\n",
       "    <tr>\n",
       "      <th>1</th>\n",
       "      <td>ART00002</td>\n",
       "      <td>To offer down resource great point.</td>\n",
       "      <td>probably guess western behind likely next inve...</td>\n",
       "      <td>25/05/2022</td>\n",
       "      <td>https://newswebsite.com/article/2</td>\n",
       "      <td>Fox News</td>\n",
       "      <td>Joseph Hill</td>\n",
       "      <td>https://images.newswebsite.com/thumb2.jpg</td>\n",
       "      <td>Politics</td>\n",
       "      <td>fake</td>\n",
       "    </tr>\n",
       "    <tr>\n",
       "      <th>2</th>\n",
       "      <td>ART00003</td>\n",
       "      <td>Himself church myself carry.</td>\n",
       "      <td>them identify forward present success risk sev...</td>\n",
       "      <td>01/09/2022</td>\n",
       "      <td>https://newswebsite.com/article/3</td>\n",
       "      <td>CNN</td>\n",
       "      <td>Julia Robinson</td>\n",
       "      <td>https://images.newswebsite.com/thumb3.jpg</td>\n",
       "      <td>Business</td>\n",
       "      <td>fake</td>\n",
       "    </tr>\n",
       "    <tr>\n",
       "      <th>3</th>\n",
       "      <td>ART00004</td>\n",
       "      <td>You unit its should.</td>\n",
       "      <td>phone which item yard Republican safe where po...</td>\n",
       "      <td>07/02/2023</td>\n",
       "      <td>https://newswebsite.com/article/4</td>\n",
       "      <td>Reuters</td>\n",
       "      <td>Mr. David Foster DDS</td>\n",
       "      <td>https://images.newswebsite.com/thumb4.jpg</td>\n",
       "      <td>Science</td>\n",
       "      <td>fake</td>\n",
       "    </tr>\n",
       "    <tr>\n",
       "      <th>4</th>\n",
       "      <td>ART00005</td>\n",
       "      <td>Billion believe employee summer how.</td>\n",
       "      <td>wonder myself fact difficult course forget exa...</td>\n",
       "      <td>03/04/2023</td>\n",
       "      <td>https://newswebsite.com/article/5</td>\n",
       "      <td>CNN</td>\n",
       "      <td>Austin Walker</td>\n",
       "      <td>https://images.newswebsite.com/thumb5.jpg</td>\n",
       "      <td>Technology</td>\n",
       "      <td>fake</td>\n",
       "    </tr>\n",
       "  </tbody>\n",
       "</table>\n",
       "</div>"
      ],
      "text/plain": [
       "  article_id                                 title  \\\n",
       "0   ART00001               Foreign Democrat final.   \n",
       "1   ART00002   To offer down resource great point.   \n",
       "2   ART00003          Himself church myself carry.   \n",
       "3   ART00004                  You unit its should.   \n",
       "4   ART00005  Billion believe employee summer how.   \n",
       "\n",
       "                                                text        date  \\\n",
       "0  more tax development both store agreement lawy...  10/03/2023   \n",
       "1  probably guess western behind likely next inve...  25/05/2022   \n",
       "2  them identify forward present success risk sev...  01/09/2022   \n",
       "3  phone which item yard Republican safe where po...  07/02/2023   \n",
       "4  wonder myself fact difficult course forget exa...  03/04/2023   \n",
       "\n",
       "                                 url    source                author  \\\n",
       "0  https://newswebsite.com/article/1  NY Times          Paula George   \n",
       "1  https://newswebsite.com/article/2  Fox News           Joseph Hill   \n",
       "2  https://newswebsite.com/article/3       CNN        Julia Robinson   \n",
       "3  https://newswebsite.com/article/4   Reuters  Mr. David Foster DDS   \n",
       "4  https://newswebsite.com/article/5       CNN         Austin Walker   \n",
       "\n",
       "                                   thumbnail    category label  \n",
       "0  https://images.newswebsite.com/thumb1.jpg    Politics  real  \n",
       "1  https://images.newswebsite.com/thumb2.jpg    Politics  fake  \n",
       "2  https://images.newswebsite.com/thumb3.jpg    Business  fake  \n",
       "3  https://images.newswebsite.com/thumb4.jpg     Science  fake  \n",
       "4  https://images.newswebsite.com/thumb5.jpg  Technology  fake  "
      ]
     },
     "execution_count": 59,
     "metadata": {},
     "output_type": "execute_result"
    }
   ],
   "source": [
    "data = pd.read_csv('fake_news_dataset.csv')\n",
    "data.info()\n",
    "data.head()"
   ]
  },
  {
   "cell_type": "markdown",
   "id": "5ea1fb99",
   "metadata": {},
   "source": [
    "### <strong>Initial Cleaning<strong>"
   ]
  },
  {
   "cell_type": "markdown",
   "id": "c69022e8",
   "metadata": {},
   "source": [
    "#### Dropping IrrelevantColumns"
   ]
  },
  {
   "cell_type": "code",
   "execution_count": 60,
   "id": "6c605323",
   "metadata": {},
   "outputs": [
    {
     "data": {
      "text/html": [
       "<div>\n",
       "<style scoped>\n",
       "    .dataframe tbody tr th:only-of-type {\n",
       "        vertical-align: middle;\n",
       "    }\n",
       "\n",
       "    .dataframe tbody tr th {\n",
       "        vertical-align: top;\n",
       "    }\n",
       "\n",
       "    .dataframe thead th {\n",
       "        text-align: right;\n",
       "    }\n",
       "</style>\n",
       "<table border=\"1\" class=\"dataframe\">\n",
       "  <thead>\n",
       "    <tr style=\"text-align: right;\">\n",
       "      <th></th>\n",
       "      <th>title</th>\n",
       "      <th>text</th>\n",
       "      <th>date</th>\n",
       "      <th>source</th>\n",
       "      <th>author</th>\n",
       "      <th>category</th>\n",
       "      <th>label</th>\n",
       "    </tr>\n",
       "  </thead>\n",
       "  <tbody>\n",
       "    <tr>\n",
       "      <th>0</th>\n",
       "      <td>Foreign Democrat final.</td>\n",
       "      <td>more tax development both store agreement lawy...</td>\n",
       "      <td>10/03/2023</td>\n",
       "      <td>NY Times</td>\n",
       "      <td>Paula George</td>\n",
       "      <td>Politics</td>\n",
       "      <td>real</td>\n",
       "    </tr>\n",
       "    <tr>\n",
       "      <th>1</th>\n",
       "      <td>To offer down resource great point.</td>\n",
       "      <td>probably guess western behind likely next inve...</td>\n",
       "      <td>25/05/2022</td>\n",
       "      <td>Fox News</td>\n",
       "      <td>Joseph Hill</td>\n",
       "      <td>Politics</td>\n",
       "      <td>fake</td>\n",
       "    </tr>\n",
       "    <tr>\n",
       "      <th>2</th>\n",
       "      <td>Himself church myself carry.</td>\n",
       "      <td>them identify forward present success risk sev...</td>\n",
       "      <td>01/09/2022</td>\n",
       "      <td>CNN</td>\n",
       "      <td>Julia Robinson</td>\n",
       "      <td>Business</td>\n",
       "      <td>fake</td>\n",
       "    </tr>\n",
       "    <tr>\n",
       "      <th>3</th>\n",
       "      <td>You unit its should.</td>\n",
       "      <td>phone which item yard Republican safe where po...</td>\n",
       "      <td>07/02/2023</td>\n",
       "      <td>Reuters</td>\n",
       "      <td>Mr. David Foster DDS</td>\n",
       "      <td>Science</td>\n",
       "      <td>fake</td>\n",
       "    </tr>\n",
       "    <tr>\n",
       "      <th>4</th>\n",
       "      <td>Billion believe employee summer how.</td>\n",
       "      <td>wonder myself fact difficult course forget exa...</td>\n",
       "      <td>03/04/2023</td>\n",
       "      <td>CNN</td>\n",
       "      <td>Austin Walker</td>\n",
       "      <td>Technology</td>\n",
       "      <td>fake</td>\n",
       "    </tr>\n",
       "  </tbody>\n",
       "</table>\n",
       "</div>"
      ],
      "text/plain": [
       "                                  title  \\\n",
       "0               Foreign Democrat final.   \n",
       "1   To offer down resource great point.   \n",
       "2          Himself church myself carry.   \n",
       "3                  You unit its should.   \n",
       "4  Billion believe employee summer how.   \n",
       "\n",
       "                                                text        date    source  \\\n",
       "0  more tax development both store agreement lawy...  10/03/2023  NY Times   \n",
       "1  probably guess western behind likely next inve...  25/05/2022  Fox News   \n",
       "2  them identify forward present success risk sev...  01/09/2022       CNN   \n",
       "3  phone which item yard Republican safe where po...  07/02/2023   Reuters   \n",
       "4  wonder myself fact difficult course forget exa...  03/04/2023       CNN   \n",
       "\n",
       "                 author    category label  \n",
       "0          Paula George    Politics  real  \n",
       "1           Joseph Hill    Politics  fake  \n",
       "2        Julia Robinson    Business  fake  \n",
       "3  Mr. David Foster DDS     Science  fake  \n",
       "4         Austin Walker  Technology  fake  "
      ]
     },
     "execution_count": 60,
     "metadata": {},
     "output_type": "execute_result"
    }
   ],
   "source": [
    "data = data.drop(columns=[\"article_id\", \"url\", \"thumbnail\"], errors=\"ignore\")\n",
    "\n",
    "data.head()"
   ]
  },
  {
   "cell_type": "markdown",
   "id": "8a092bc9",
   "metadata": {},
   "source": [
    "#### Remove Duplicates"
   ]
  },
  {
   "cell_type": "code",
   "execution_count": 61,
   "id": "b23a5be8",
   "metadata": {},
   "outputs": [],
   "source": [
    "data = data.drop_duplicates(subset=[\"title\", \"text\"])"
   ]
  },
  {
   "cell_type": "markdown",
   "id": "d0d7dd0d",
   "metadata": {},
   "source": [
    "#### Handle Missing Values"
   ]
  },
  {
   "cell_type": "code",
   "execution_count": 62,
   "id": "dd769f31",
   "metadata": {},
   "outputs": [],
   "source": [
    "# Replace blank/whitespace-only cells with NaN\n",
    "data = data.replace(r'^\\s*$', np.nan, regex=True)\n",
    "\n",
    "# Drop rows where 'text' or 'title' are missing\n",
    "data = data.dropna(subset=[\"text\", \"title\"])\n",
    "\n",
    "# Fill missing metadata\n",
    "data[\"author\"] = data[\"author\"].fillna(\"Unknown\")\n",
    "data[\"source\"] = data[\"source\"].fillna(\"Unknown\")"
   ]
  },
  {
   "cell_type": "markdown",
   "id": "e7d18e8e",
   "metadata": {},
   "source": [
    "#### Convert Date Column to Datetime"
   ]
  },
  {
   "cell_type": "code",
   "execution_count": 63,
   "id": "c4c9a3db",
   "metadata": {},
   "outputs": [],
   "source": [
    "data['date'] = pd.to_datetime(data['date'], errors='coerce')\n",
    "\n",
    "data['year'] = data['date'].dt.year\n",
    "data['month'] = data['date'].dt.month\n",
    "data['day'] = data['date'].dt.day\n",
    "\n",
    "data['date'] = data['date'].fillna(pd.NaT)"
   ]
  },
  {
   "cell_type": "code",
   "execution_count": 64,
   "id": "396de13b",
   "metadata": {},
   "outputs": [],
   "source": [
    "\n",
    "# Drop rows where date is completely invalid\n",
    "data = data.dropna(subset=[\"date\"])"
   ]
  },
  {
   "cell_type": "markdown",
   "id": "cb88a737",
   "metadata": {},
   "source": [
    "### <strong>Text & Metadata Normalization</strong>"
   ]
  },
  {
   "cell_type": "markdown",
   "id": "47302897",
   "metadata": {},
   "source": [
    "#### Clean Source Column"
   ]
  },
  {
   "cell_type": "code",
   "execution_count": 65,
   "id": "b63acae2",
   "metadata": {},
   "outputs": [],
   "source": [
    "# Lowercase everything first\n",
    "data[\"source\"] = data[\"source\"].str.lower().str.strip()\n",
    "\n",
    "# Remove common URL parts like '.com', '.org', '.net'\n",
    "data[\"source\"] = data[\"source\"].str.replace(r\"\\.com|\\.org|\\.net|\\.news\", \"\", regex=True)\n",
    "\n",
    "# Remove 'www.' and ending slashes\n",
    "data[\"source\"] = data[\"source\"].str.replace(r\"^www\\.\", \"\", regex=True)\n",
    "data[\"source\"] = data[\"source\"].str.replace(r\"/$\", \"\", regex=True)"
   ]
  },
  {
   "cell_type": "code",
   "execution_count": 66,
   "id": "4b9e39a6",
   "metadata": {},
   "outputs": [
    {
     "name": "stdout",
     "output_type": "stream",
     "text": [
      "source\n",
      "ny times        954\n",
      "reuters         946\n",
      "daily news      934\n",
      "cnn             928\n",
      "bbc             921\n",
      "fox news        916\n",
      "global times    880\n",
      "the guardian    878\n",
      "unknown         405\n",
      "Name: count, dtype: int64\n"
     ]
    }
   ],
   "source": [
    "print(data[\"source\"].value_counts().head(20))"
   ]
  },
  {
   "cell_type": "markdown",
   "id": "d1c50c20",
   "metadata": {},
   "source": [
    "#### Clean Title & Text Columns"
   ]
  },
  {
   "cell_type": "code",
   "execution_count": 67,
   "id": "b13fe911",
   "metadata": {},
   "outputs": [],
   "source": [
    "def clean_text(text):\n",
    "    text = str(text).lower()\n",
    "    text = text.strip()\n",
    "    text = \" \".join(text.split())\n",
    "    return text\n",
    "\n",
    "data[\"title\"] = data[\"title\"].apply(clean_text)\n",
    "data[\"text\"] = data[\"text\"].apply(clean_text)"
   ]
  },
  {
   "cell_type": "markdown",
   "id": "735e9e83",
   "metadata": {},
   "source": [
    "### <strong>Quality Control & Filtering</strong>"
   ]
  },
  {
   "cell_type": "markdown",
   "id": "5c7c1166",
   "metadata": {},
   "source": [
    "#### Add Text Length Column & Filter by Length"
   ]
  },
  {
   "cell_type": "code",
   "execution_count": 68,
   "id": "70fd8dfd",
   "metadata": {},
   "outputs": [],
   "source": [
    "# Add text length column\n",
    "data[\"text_length\"] = data[\"text\"].apply(len)\n",
    "\n",
    "# Keep only rows with reasonable text length\n",
    "data = data[(data[\"text_length\"] > 30) & (data[\"text_length\"] < 10000)]"
   ]
  },
  {
   "cell_type": "markdown",
   "id": "37ad6aad",
   "metadata": {},
   "source": [
    "#### Convert Label to Numeric"
   ]
  },
  {
   "cell_type": "code",
   "execution_count": 69,
   "id": "422935e9",
   "metadata": {},
   "outputs": [],
   "source": [
    "# If label is text (\"fake\"/\"real\") → convert to numeric\n",
    "data[\"label\"] = data[\"label\"].str.lower().map({\"fake\": 0, \"real\": 1})\n",
    "\n",
    "# Handle missing or invalid labels\n",
    "data = data.dropna(subset=[\"label\"])"
   ]
  },
  {
   "cell_type": "markdown",
   "id": "175c8bc7",
   "metadata": {},
   "source": [
    "#### Preprocess Text (Remove URLs, Numbers, Punctuation, Stopwords, Lemmatize)"
   ]
  },
  {
   "cell_type": "code",
   "execution_count": 70,
   "id": "6ed67c6f",
   "metadata": {},
   "outputs": [],
   "source": [
    "stop_words = set(stopwords.words(\"english\"))\n",
    "lemmatizer = WordNetLemmatizer()\n",
    "\n",
    "def preprocess_text(text):\n",
    "    # Remove URLs\n",
    "    text = re.sub(r\"http\\S+|www\\S+\", \"\", text)\n",
    "\n",
    "    # Remove numbers\n",
    "    text = re.sub(r\"\\d+\", \"\", text)\n",
    "\n",
    "    # Remove punctuation\n",
    "    text = text.translate(str.maketrans(\"\", \"\", string.punctuation))\n",
    "\n",
    "    # Tokenize\n",
    "    tokens = nltk.word_tokenize(text)\n",
    "\n",
    "    # Remove stopwords + lemmatize\n",
    "    tokens = [lemmatizer.lemmatize(word) for word in tokens if word not in stop_words]\n",
    "\n",
    "    # Rejoin tokens\n",
    "    return \" \".join(tokens)\n",
    "\n",
    "# Apply preprocessing\n",
    "data[\"clean_text\"] = data[\"text\"].apply(preprocess_text)\n",
    "data[\"clean_title\"] = data[\"title\"].apply(preprocess_text)"
   ]
  },
  {
   "cell_type": "markdown",
   "id": "b082ad79",
   "metadata": {},
   "source": [
    "### <strong>Feature Engineering</strong>"
   ]
  },
  {
   "cell_type": "markdown",
   "id": "dfe2ec01",
   "metadata": {},
   "source": [
    "#### Add Word Count and Ratio Features"
   ]
  },
  {
   "cell_type": "code",
   "execution_count": 71,
   "id": "0c727ca7",
   "metadata": {},
   "outputs": [],
   "source": [
    "# Word count features\n",
    "data[\"word_count\"] = data[\"clean_text\"].apply(lambda x: len(x.split()))\n",
    "data[\"title_word_count\"] = data[\"clean_title\"].apply(lambda x: len(x.split()))\n",
    "\n",
    "# Ratio feature (title length vs body length)\n",
    "data[\"title_to_text_ratio\"] = data[\"title_word_count\"] / (data[\"word_count\"] + 1)"
   ]
  },
  {
   "cell_type": "markdown",
   "id": "1923e9a9",
   "metadata": {},
   "source": [
    "#### Date / Time Features"
   ]
  },
  {
   "cell_type": "code",
   "execution_count": 72,
   "id": "f6f717fb",
   "metadata": {},
   "outputs": [],
   "source": [
    "# --- Date/time features ---\n",
    "data[\"year\"] = data[\"date\"].dt.year\n",
    "data[\"month\"] = data[\"date\"].dt.month\n",
    "data[\"dayofweek\"] = data[\"date\"].dt.dayofweek  # Mon=0\n"
   ]
  },
  {
   "cell_type": "markdown",
   "id": "1b2da5d0",
   "metadata": {},
   "source": [
    "#### Source/Author productivity & frequency"
   ]
  },
  {
   "cell_type": "code",
   "execution_count": 73,
   "id": "db9a9c60",
   "metadata": {},
   "outputs": [],
   "source": [
    "# --- Source/Author productivity & frequency ---\n",
    "src_counts = data[\"source\"].value_counts()\n",
    "data[\"source_freq\"] = data[\"source\"].map(src_counts)"
   ]
  },
  {
   "cell_type": "markdown",
   "id": "81e0b03d",
   "metadata": {},
   "source": [
    "#### Frequency of Author in Corpus"
   ]
  },
  {
   "cell_type": "code",
   "execution_count": 74,
   "id": "abc36633",
   "metadata": {},
   "outputs": [],
   "source": [
    "auth_counts = data[\"author\"].value_counts()\n",
    "data[\"author_freq\"] = data[\"author\"].map(auth_counts)"
   ]
  },
  {
   "cell_type": "markdown",
   "id": "4a805457",
   "metadata": {},
   "source": [
    "#### Author/Article Recency Feature (how many days since article)"
   ]
  },
  {
   "cell_type": "code",
   "execution_count": 75,
   "id": "b4733268",
   "metadata": {},
   "outputs": [],
   "source": [
    "max_date = data[\"date\"].max()\n",
    "data[\"days_since_pub\"] = (max_date - data[\"date\"]).dt.days"
   ]
  },
  {
   "cell_type": "markdown",
   "id": "9d117496",
   "metadata": {},
   "source": [
    "### <strong>Exploratory Data Analysis (EDA)</strong>"
   ]
  },
  {
   "cell_type": "markdown",
   "id": "2b81741f",
   "metadata": {},
   "source": [
    "#### Visualize Label Distribution"
   ]
  },
  {
   "cell_type": "code",
   "execution_count": 76,
   "id": "38eb24dd",
   "metadata": {},
   "outputs": [
    {
     "name": "stderr",
     "output_type": "stream",
     "text": [
      "/tmp/ipykernel_7831/2260486128.py:5: FutureWarning: \n",
      "\n",
      "Passing `palette` without assigning `hue` is deprecated and will be removed in v0.14.0. Assign the `x` variable to `hue` and set `legend=False` for the same effect.\n",
      "\n",
      "  sns.countplot(x=\"label\", data=data, palette=\"Set2\")\n"
     ]
    },
    {
     "data": {
      "image/png": "[encoded data removed]",
      "text/plain": [
       "<Figure size 600x400 with 1 Axes>"
      ]
     },
     "metadata": {},
     "output_type": "display_data"
    }
   ],
   "source": [
    "sns.set(style=\"whitegrid\")\n",
    "\n",
    "# --- Label Distribution ---\n",
    "plt.figure(figsize=(6,4))\n",
    "sns.countplot(x=\"label\", data=data, palette=\"Set2\")\n",
    "plt.title(\"Distribution of Labels (Fake vs Real News)\")\n",
    "plt.xticks([0,1], [\"Fake\", \"Real\"])\n",
    "plt.ylabel(\"Count\")\n",
    "plt.show()"
   ]
  },
  {
   "cell_type": "markdown",
   "id": "652dd9ac",
   "metadata": {},
   "source": [
    "#### Visualize Text Length Distribution"
   ]
  },
  {
   "cell_type": "code",
   "execution_count": 77,
   "id": "d83aa92c",
   "metadata": {},
   "outputs": [
    {
     "data": {
      "image/png": "[encoded data removed]",
      "text/plain": [
       "<Figure size 800x500 with 1 Axes>"
      ]
     },
     "metadata": {},
     "output_type": "display_data"
    }
   ],
   "source": [
    "# --- Text Length Distribution ---\n",
    "plt.figure(figsize=(8,5))\n",
    "sns.histplot(data[\"word_count\"], bins=50, kde=True, color=\"blue\")\n",
    "plt.title(\"Distribution of Article Word Counts\")\n",
    "plt.xlabel(\"Word Count\")\n",
    "plt.ylabel(\"Frequency\")\n",
    "plt.show()"
   ]
  },
  {
   "cell_type": "markdown",
   "id": "61762d6e",
   "metadata": {},
   "source": [
    "#### Visualize Title vs Text Ratio Distribution"
   ]
  },
  {
   "cell_type": "code",
   "execution_count": 78,
   "id": "a778fc09",
   "metadata": {},
   "outputs": [
    {
     "data": {
      "image/png": "[encoded data removed]",
      "text/plain": [
       "<Figure size 800x500 with 1 Axes>"
      ]
     },
     "metadata": {},
     "output_type": "display_data"
    }
   ],
   "source": [
    "# --- Title vs Text Ratio ---\n",
    "plt.figure(figsize=(8,5))\n",
    "sns.histplot(data[\"title_to_text_ratio\"], bins=50, kde=True, color=\"green\")\n",
    "plt.title(\"Distribution of Title-to-Text Ratios\")\n",
    "plt.xlabel(\"Ratio\")\n",
    "plt.ylabel(\"Frequency\")\n",
    "plt.show()"
   ]
  },
  {
   "cell_type": "markdown",
   "id": "c4181379",
   "metadata": {},
   "source": [
    "#### Visualize Top Sources"
   ]
  },
  {
   "cell_type": "code",
   "execution_count": 79,
   "id": "40b44ea6",
   "metadata": {},
   "outputs": [
    {
     "name": "stderr",
     "output_type": "stream",
     "text": [
      "/tmp/ipykernel_7831/1853544501.py:4: FutureWarning: \n",
      "\n",
      "Passing `palette` without assigning `hue` is deprecated and will be removed in v0.14.0. Assign the `y` variable to `hue` and set `legend=False` for the same effect.\n",
      "\n",
      "  sns.barplot(x=top_sources.values, y=top_sources.index, palette=\"muted\")\n"
     ]
    },
    {
     "data": {
      "image/png": "[encoded data removed]",
      "text/plain": [
       "<Figure size 1000x500 with 1 Axes>"
      ]
     },
     "metadata": {},
     "output_type": "display_data"
    }
   ],
   "source": [
    "# --- Top Sources ---\n",
    "plt.figure(figsize=(10,5))\n",
    "top_sources = data[\"source\"].value_counts().head(10)\n",
    "sns.barplot(x=top_sources.values, y=top_sources.index, palette=\"muted\")\n",
    "plt.title(\"Top 10 Sources\")\n",
    "plt.xlabel(\"Number of Articles\")\n",
    "plt.ylabel(\"Source\")\n",
    "plt.show()"
   ]
  },
  {
   "cell_type": "markdown",
   "id": "5070cc5a",
   "metadata": {},
   "source": [
    "### <strong>Save Processed Dataset</strong>"
   ]
  },
  {
   "cell_type": "markdown",
   "id": "618823fc",
   "metadata": {},
   "source": [
    "#### Save and Download Cleaned Data"
   ]
  },
  {
   "cell_type": "code",
   "execution_count": 81,
   "id": "577f8400",
   "metadata": {},
   "outputs": [],
   "source": [
    "data.to_csv('cleaned_fake_news.csv', index=False)"
   ]
  }
 ],
 "metadata": {
  "kernelspec": {
   "display_name": ".venv",
   "language": "python",
   "name": "python3"
  },
  "language_info": {
   "codemirror_mode": {
    "name": "ipython",
    "version": 3
   },
   "file_extension": ".py",
   "mimetype": "text/x-python",
   "name": "python",
   "nbconvert_exporter": "python",
   "pygments_lexer": "ipython3",
   "version": "3.13.3"
  }
 },
 "nbformat": 4,
 "nbformat_minor": 5
}
