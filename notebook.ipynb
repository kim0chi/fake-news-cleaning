{
 "cells": [
  {
   "cell_type": "markdown",
   "id": "7bb56bee",
   "metadata": {},
   "source": [
    "# Fake & Real News Dataset"
   ]
  },
  {
   "cell_type": "markdown",
   "id": "2ec59306",
   "metadata": {},
   "source": [
    "#### Purpose"
   ]
  },
  {
   "cell_type": "markdown",
   "id": "e5f10439",
   "metadata": {},
   "source": [
    "<strong>Fake News Detection</strong>\n",
    "<br>\n",
    "![Fake News GIF](gifs/Cnn%20News%20GIF.gif)\n",
    "\n",
    "    The dataset is meant to support fake news detection."
   ]
  },
  {
   "cell_type": "markdown",
   "id": "e37cc5d9",
   "metadata": {},
   "source": [
    "#### Objectives"
   ]
  },
  {
   "cell_type": "markdown",
   "id": "dc71f155",
   "metadata": {},
   "source": [
    "##### Build and Evaluate a Classifier\n",
    "\n",
    "![Predict GIF](gifs/Season%202%20Rolls%20Eyes%20GIF%20by%20BBC%20Three.gif)\n",
    "\n",
    "<ul>\n",
    "    <li>Use the title and/or text fields to train a supervised learning model that predicts the label (fake vs. real).</li>\n",
    "    <li>Benchmark different models (e.g., logistic regression, random forest, transformers) to see which performs best.</li>\n",
    "</ul>"
   ]
  },
  {
   "cell_type": "markdown",
   "id": "4b421630",
   "metadata": {},
   "source": [
    "##### Analyze Patterns of Fake vs. Real News\n",
    "\n",
    "![Analyze](gifs/Serious%20Episode%205%20GIF%20by%20One%20Chicago.gif)\n",
    "\n",
    "<ul>\n",
    "<li>Explore linguistic and metadata differences (e.g., vocabulary, sentiment, writing style, publishing source, frequency of certain words).</li>\n",
    "<li>Identify features that strongly correlate with fake news, which could also help in understanding misinformation strategies.</li>\n",
    "</ul>"
   ]
  },
  {
   "cell_type": "markdown",
   "id": "7f305e01",
   "metadata": {},
   "source": [
    "#### Import Libraries"
   ]
  },
  {
   "cell_type": "code",
   "execution_count": 1,
   "id": "c0e43ee2",
   "metadata": {},
   "outputs": [],
   "source": [
    "import pandas as pd\n",
    "import numpy as np"
   ]
  },
  {
   "cell_type": "markdown",
   "id": "75f629b3",
   "metadata": {},
   "source": [
    "#### Reading the File"
   ]
  },
  {
   "cell_type": "code",
   "execution_count": 2,
   "id": "39cf92d6",
   "metadata": {},
   "outputs": [],
   "source": [
    "data = pd.read_csv('fake_news_dataset.csv')"
   ]
  },
  {
   "cell_type": "markdown",
   "id": "5facb238",
   "metadata": {},
   "source": [
    "#### Exploring the Dataset"
   ]
  },
  {
   "cell_type": "code",
   "execution_count": 3,
   "id": "26602775",
   "metadata": {},
   "outputs": [
    {
     "name": "stdout",
     "output_type": "stream",
     "text": [
      "<class 'pandas.core.frame.DataFrame'>\n",
      "RangeIndex: 20000 entries, 0 to 19999\n",
      "Data columns (total 7 columns):\n",
      " #   Column    Non-Null Count  Dtype \n",
      "---  ------    --------------  ----- \n",
      " 0   title     20000 non-null  object\n",
      " 1   text      20000 non-null  object\n",
      " 2   date      20000 non-null  object\n",
      " 3   source    19000 non-null  object\n",
      " 4   author    19000 non-null  object\n",
      " 5   category  20000 non-null  object\n",
      " 6   label     20000 non-null  object\n",
      "dtypes: object(7)\n",
      "memory usage: 1.1+ MB\n"
     ]
    }
   ],
   "source": [
    "data.info()"
   ]
  },
  {
   "cell_type": "code",
   "execution_count": 4,
   "id": "6c605323",
   "metadata": {},
   "outputs": [
    {
     "data": {
      "text/html": [
       "<div>\n",
       "<style scoped>\n",
       "    .dataframe tbody tr th:only-of-type {\n",
       "        vertical-align: middle;\n",
       "    }\n",
       "\n",
       "    .dataframe tbody tr th {\n",
       "        vertical-align: top;\n",
       "    }\n",
       "\n",
       "    .dataframe thead th {\n",
       "        text-align: right;\n",
       "    }\n",
       "</style>\n",
       "<table border=\"1\" class=\"dataframe\">\n",
       "  <thead>\n",
       "    <tr style=\"text-align: right;\">\n",
       "      <th></th>\n",
       "      <th>title</th>\n",
       "      <th>text</th>\n",
       "      <th>date</th>\n",
       "      <th>source</th>\n",
       "      <th>author</th>\n",
       "      <th>category</th>\n",
       "      <th>label</th>\n",
       "    </tr>\n",
       "  </thead>\n",
       "  <tbody>\n",
       "    <tr>\n",
       "      <th>0</th>\n",
       "      <td>Foreign Democrat final.</td>\n",
       "      <td>more tax development both store agreement lawy...</td>\n",
       "      <td>2023-03-10</td>\n",
       "      <td>NY Times</td>\n",
       "      <td>Paula George</td>\n",
       "      <td>Politics</td>\n",
       "      <td>real</td>\n",
       "    </tr>\n",
       "    <tr>\n",
       "      <th>1</th>\n",
       "      <td>To offer down resource great point.</td>\n",
       "      <td>probably guess western behind likely next inve...</td>\n",
       "      <td>2022-05-25</td>\n",
       "      <td>Fox News</td>\n",
       "      <td>Joseph Hill</td>\n",
       "      <td>Politics</td>\n",
       "      <td>fake</td>\n",
       "    </tr>\n",
       "    <tr>\n",
       "      <th>2</th>\n",
       "      <td>Himself church myself carry.</td>\n",
       "      <td>them identify forward present success risk sev...</td>\n",
       "      <td>2022-09-01</td>\n",
       "      <td>CNN</td>\n",
       "      <td>Julia Robinson</td>\n",
       "      <td>Business</td>\n",
       "      <td>fake</td>\n",
       "    </tr>\n",
       "    <tr>\n",
       "      <th>3</th>\n",
       "      <td>You unit its should.</td>\n",
       "      <td>phone which item yard Republican safe where po...</td>\n",
       "      <td>2023-02-07</td>\n",
       "      <td>Reuters</td>\n",
       "      <td>Mr. David Foster DDS</td>\n",
       "      <td>Science</td>\n",
       "      <td>fake</td>\n",
       "    </tr>\n",
       "    <tr>\n",
       "      <th>4</th>\n",
       "      <td>Billion believe employee summer how.</td>\n",
       "      <td>wonder myself fact difficult course forget exa...</td>\n",
       "      <td>2023-04-03</td>\n",
       "      <td>CNN</td>\n",
       "      <td>Austin Walker</td>\n",
       "      <td>Technology</td>\n",
       "      <td>fake</td>\n",
       "    </tr>\n",
       "  </tbody>\n",
       "</table>\n",
       "</div>"
      ],
      "text/plain": [
       "                                  title  \\\n",
       "0               Foreign Democrat final.   \n",
       "1   To offer down resource great point.   \n",
       "2          Himself church myself carry.   \n",
       "3                  You unit its should.   \n",
       "4  Billion believe employee summer how.   \n",
       "\n",
       "                                                text        date    source  \\\n",
       "0  more tax development both store agreement lawy...  2023-03-10  NY Times   \n",
       "1  probably guess western behind likely next inve...  2022-05-25  Fox News   \n",
       "2  them identify forward present success risk sev...  2022-09-01       CNN   \n",
       "3  phone which item yard Republican safe where po...  2023-02-07   Reuters   \n",
       "4  wonder myself fact difficult course forget exa...  2023-04-03       CNN   \n",
       "\n",
       "                 author    category label  \n",
       "0          Paula George    Politics  real  \n",
       "1           Joseph Hill    Politics  fake  \n",
       "2        Julia Robinson    Business  fake  \n",
       "3  Mr. David Foster DDS     Science  fake  \n",
       "4         Austin Walker  Technology  fake  "
      ]
     },
     "execution_count": 4,
     "metadata": {},
     "output_type": "execute_result"
    }
   ],
   "source": [
    "data.head()"
   ]
  },
  {
   "cell_type": "markdown",
   "id": "8a092bc9",
   "metadata": {},
   "source": [
    "#### De-Duplication"
   ]
  },
  {
   "cell_type": "code",
   "execution_count": 5,
   "id": "b23a5be8",
   "metadata": {},
   "outputs": [],
   "source": [
    "data = data.drop_duplicates(subset=[\"title\", \"text\"])"
   ]
  },
  {
   "cell_type": "markdown",
   "id": "d0d7dd0d",
   "metadata": {},
   "source": [
    "#### Missing-value normalization"
   ]
  },
  {
   "cell_type": "code",
   "execution_count": 6,
   "id": "dd769f31",
   "metadata": {},
   "outputs": [],
   "source": [
    "data = data.replace(r\"^\\s*$\", np.nan, regex=True)"
   ]
  },
  {
   "cell_type": "markdown",
   "id": "e7d18e8e",
   "metadata": {},
   "source": [
    "#### Type casting for dates + calendar parts"
   ]
  },
  {
   "cell_type": "code",
   "execution_count": 7,
   "id": "c4c9a3db",
   "metadata": {},
   "outputs": [],
   "source": [
    "data['date'] = pd.to_datetime(data['date'], errors='coerce')\n",
    "\n",
    "data['year'] = data['date'].dt.year\n",
    "data['month'] = data['date'].dt.month\n",
    "data['day'] = data['date'].dt.day"
   ]
  },
  {
   "cell_type": "code",
   "execution_count": 8,
   "id": "21b7cdc6",
   "metadata": {},
   "outputs": [],
   "source": [
    "data['date'] = data['date'].fillna(pd.NaT)"
   ]
  },
  {
   "cell_type": "markdown",
   "id": "47302897",
   "metadata": {},
   "source": [
    "#### String Cleanup for Object Columns"
   ]
  },
  {
   "cell_type": "code",
   "execution_count": 9,
   "id": "b63acae2",
   "metadata": {},
   "outputs": [],
   "source": [
    "object_cols = data.select_dtypes(include=\"object\").columns\n",
    "for col in object_cols:\n",
    "    data[col] = data[col].fillna('unknown')\n",
    "    data[col] = data[col].str.strip().str.lower()"
   ]
  },
  {
   "cell_type": "markdown",
   "id": "d1c50c20",
   "metadata": {},
   "source": [
    "#### Source Normalization"
   ]
  },
  {
   "cell_type": "code",
   "execution_count": 10,
   "id": "b13fe911",
   "metadata": {},
   "outputs": [],
   "source": [
    "source_mapping = {\n",
    "    \"bbc news\": \"bbc\",\n",
    "    \"bbc.com\": \"bbc\",\n",
    "    \"bbc.co.uk\": \"bbc\",\n",
    "    \"bbc\": \"bbc\",\n",
    "\n",
    "    \"cnn news\": \"cnn\",\n",
    "    \"cnn.com\": \"cnn\",\n",
    "    \"cnn\": \"cnn\",\n",
    "\n",
    "    \"foxnews.com\": \"fox news\",\n",
    "    \"fox news\": \"fox news\",\n",
    "    \"fox\": \"fox news\",\n",
    "\n",
    "    \"ny times\": \"new york times\",\n",
    "    \"nytimes.com\": \"new york times\",\n",
    "    \"new york times\": \"new york times\",\n",
    "    \"nyt\": \"new york times\",\n",
    "\n",
    "    \"reuters.com\": \"reuters\",\n",
    "    \"reuters\": \"reuters\",\n",
    "\n",
    "    \"dailynews.com\": \"daily news\",\n",
    "    \"daily news\": \"daily news\",\n",
    "\n",
    "    \"global times\": \"global times\",\n",
    "    \"globaltimes.cn\": \"global times\",\n",
    "\n",
    "    \"guardian.co.uk\": \"the guardian\",\n",
    "    \"the guardian\": \"the guardian\",\n",
    "    \"guardian\": \"the guardian\",\n",
    "\n",
    "    \"unknown\": \"unknown\",\n",
    "    \"\": \"unknown\",\n",
    "    \"n/a\": \"unknown\"\n",
    "}"
   ]
  },
  {
   "cell_type": "code",
   "execution_count": 11,
   "id": "942f9142",
   "metadata": {},
   "outputs": [],
   "source": [
    "data[\"source\"] = data[\"source\"].str.lower().map(source_mapping).fillna(\"unknown\")"
   ]
  },
  {
   "cell_type": "markdown",
   "id": "5c7c1166",
   "metadata": {},
   "source": [
    "#### Feature Engineering (Text Length)"
   ]
  },
  {
   "cell_type": "code",
   "execution_count": 12,
   "id": "70fd8dfd",
   "metadata": {},
   "outputs": [],
   "source": [
    "data[\"text_length\"] = data[\"text\"].str.len()"
   ]
  },
  {
   "cell_type": "markdown",
   "id": "37ad6aad",
   "metadata": {},
   "source": [
    "#### Content Sanity Filter"
   ]
  },
  {
   "cell_type": "code",
   "execution_count": 13,
   "id": "422935e9",
   "metadata": {},
   "outputs": [],
   "source": [
    "data = data[(data[\"text_length\"] > 30) & (data[\"text_length\"] < 10000)]"
   ]
  },
  {
   "cell_type": "markdown",
   "id": "175c8bc7",
   "metadata": {},
   "source": [
    "#### Final Completeness Check (QA)"
   ]
  },
  {
   "cell_type": "code",
   "execution_count": 14,
   "id": "6ed67c6f",
   "metadata": {},
   "outputs": [
    {
     "name": "stdout",
     "output_type": "stream",
     "text": [
      "Remaining missing values:\n",
      " title          0\n",
      "text           0\n",
      "date           0\n",
      "source         0\n",
      "author         0\n",
      "category       0\n",
      "label          0\n",
      "year           0\n",
      "month          0\n",
      "day            0\n",
      "text_length    0\n",
      "dtype: int64\n"
     ]
    }
   ],
   "source": [
    "print(\"Remaining missing values:\\n\", data.isnull().sum())"
   ]
  },
  {
   "cell_type": "code",
   "execution_count": 15,
   "id": "78ec6a0b",
   "metadata": {},
   "outputs": [
    {
     "name": "stdout",
     "output_type": "stream",
     "text": [
      "\n",
      "Unique Authors (sample): ['paula george' 'joseph hill' 'julia robinson' 'mr. david foster dds'\n",
      " 'austin walker' 'sherri fry' 'alyssa young' 'tina garrett'\n",
      " 'heather greene' 'erin hanson']\n"
     ]
    }
   ],
   "source": [
    "print(\"\\nUnique Authors (sample):\", data[\"author\"].unique()[:10])"
   ]
  },
  {
   "cell_type": "code",
   "execution_count": 16,
   "id": "b3096adf",
   "metadata": {},
   "outputs": [
    {
     "name": "stdout",
     "output_type": "stream",
     "text": [
      "\n",
      "Unique Sources (sample): ['new york times' 'fox news' 'cnn' 'reuters' 'daily news' 'global times'\n",
      " 'the guardian' 'bbc' 'unknown']\n"
     ]
    }
   ],
   "source": [
    "print(\"\\nUnique Sources (sample):\", data[\"source\"].unique()[:10])"
   ]
  },
  {
   "cell_type": "code",
   "execution_count": 17,
   "id": "104bc58c",
   "metadata": {},
   "outputs": [
    {
     "name": "stdout",
     "output_type": "stream",
     "text": [
      "<class 'pandas.core.frame.DataFrame'>\n",
      "RangeIndex: 20000 entries, 0 to 19999\n",
      "Data columns (total 11 columns):\n",
      " #   Column       Non-Null Count  Dtype         \n",
      "---  ------       --------------  -----         \n",
      " 0   title        20000 non-null  object        \n",
      " 1   text         20000 non-null  object        \n",
      " 2   date         20000 non-null  datetime64[ns]\n",
      " 3   source       20000 non-null  object        \n",
      " 4   author       20000 non-null  object        \n",
      " 5   category     20000 non-null  object        \n",
      " 6   label        20000 non-null  object        \n",
      " 7   year         20000 non-null  int32         \n",
      " 8   month        20000 non-null  int32         \n",
      " 9   day          20000 non-null  int32         \n",
      " 10  text_length  20000 non-null  int64         \n",
      "dtypes: datetime64[ns](1), int32(3), int64(1), object(6)\n",
      "memory usage: 1.4+ MB\n"
     ]
    }
   ],
   "source": [
    "data.info()"
   ]
  },
  {
   "cell_type": "markdown",
   "id": "4e9b8aa7",
   "metadata": {},
   "source": [
    "#### Save"
   ]
  },
  {
   "cell_type": "code",
   "execution_count": 18,
   "id": "35c0845c",
   "metadata": {},
   "outputs": [],
   "source": [
    "data.to_csv('cleaned_fake_news.csv', index=False)"
   ]
  }
 ],
 "metadata": {
  "kernelspec": {
   "display_name": ".venv",
   "language": "python",
   "name": "python3"
  },
  "language_info": {
   "codemirror_mode": {
    "name": "ipython",
    "version": 3
   },
   "file_extension": ".py",
   "mimetype": "text/x-python",
   "name": "python",
   "nbconvert_exporter": "python",
   "pygments_lexer": "ipython3",
   "version": "3.13.3"
  }
 },
 "nbformat": 4,
 "nbformat_minor": 5
}
